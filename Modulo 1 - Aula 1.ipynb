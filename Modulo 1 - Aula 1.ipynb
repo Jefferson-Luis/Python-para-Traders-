{
 "cells": [
  {
   "cell_type": "markdown",
   "id": "0326a230",
   "metadata": {},
   "source": [
    "# 1. Introdução a Finanças Quantitativas"
   ]
  },
  {
   "cell_type": "markdown",
   "id": "dc7aff7e",
   "metadata": {},
   "source": [
    "Antes de começarmos esse módulo intrudotório de Python aplicado a mercado financeiro, é importante definirmos esse conceito que vai guiar nossa ação daqui em diante.\n",
    "\n",
    "Estamos falando das finanças quantitativas\n",
    "\n",
    "Pontos importantes:\n",
    "    1. O que são finanças quantitativas\n",
    "    2. Porque utilizamos finanças Nquantitativas\n",
    "    3. Quais são as vantagens de se utilizar finanças quantitativas no dia a dia\n",
    "    4. O que precisamos saber\n",
    "    5. Exemplos de utilização de Python no mercado financeiro"
   ]
  },
  {
   "cell_type": "markdown",
   "id": "af3719be",
   "metadata": {},
   "source": [
    "# 2. Finanças Quantitativas com Python"
   ]
  },
  {
   "cell_type": "markdown",
   "id": "cd7ed370",
   "metadata": {},
   "source": [
    "Agora que já sabemos o que são finanças quantitativas, vamos começar a mostrar como podemos utilizar o Python para a implementação de técnicas de finanças quantiativas\n",
    "\n",
    "Para isso, vamos ter que relembrar de um conceito fundamental que aprendemos lá no curso de Data Science com Python\n",
    "\n",
    "E esse conceito é o das bibliotecas.\n",
    "\n",
    "Para o implementação de finanças quantitativas no Python, vamos precisar <b> muito </b> da ajuda de algumas bibliotecas. Essas bibliotecas vão ser utilizadas para obter dados de mercado financeiro, para processar, tratar e manipular esses dados, criar modelos de otimização, etc.\n",
    "\n",
    "Algumas dessas bibliotecas que vamos usar aqui:\n",
    "    1. pandas\n",
    "    2. numpy\n",
    "    3. seaborn\n",
    "    4. matplotlib\n",
    "    5. plotly\n",
    "    6. yfinance\n",
    "    7. pandasdatareader\n",
    "    8. investpy\n",
    "    9. yahoo_fin\n",
    "    10. MetaTraders5\n",
    "    11. Backtrader\n",
    "    12. ta\n",
    "    \n",
    "    Dentre outras"
   ]
  },
  {
   "cell_type": "markdown",
   "id": "6207e748",
   "metadata": {},
   "source": [
    "# 3. Particularidades dos dados do mercado financeiro"
   ]
  },
  {
   "cell_type": "markdown",
   "id": "8130d1b6",
   "metadata": {},
   "source": [
    "3.1. Definições"
   ]
  },
  {
   "cell_type": "code",
   "execution_count": null,
   "id": "02384640",
   "metadata": {},
   "outputs": [],
   "source": [
    "Antes de começarmos a colocar a mão na massa de fato nos dados de mercado financeiro, é importante destacar algumas particularidades desses dados.\n",
    "\n",
    "O primeiro aspecto é a dificuldade de obtenção. Dados de mercado financeiro são difíceis de obter, por várias razões\n",
    "\n",
    "O segundo é com relação a qualidade\n",
    "\n",
    "O terceiro é uma limitação técnica, do volume que conseguimos obter\n",
    "\n",
    "O quarto é um aspecto do formato, que normalmente segue o modelo OHLC, que é Open, High, Low e Close\n",
    "\n",
    "Para ilustrar o formato OHLC, vamos fazer aqui um pequeno exercício com a bibliotea pandas para realizar o upload de uma tabela num arquivo .csv\n",
    "\n",
    "Esse arquivo contém justamente uma amostra de uma tabela de WEGE"
   ]
  },
  {
   "cell_type": "markdown",
   "id": "163384f0",
   "metadata": {},
   "source": [
    "# 3.2. Primeiros passos com dados de mercado financeiro\n",
    " \n",
    "    1. Salve o arquivo no PC, no mesmo endereço onde salvou este código\n",
    "    2. Após concluido, abrir o arquivo aqui no Python usando a biblioteca pandas.\n",
    "    3. A biblioteca pandas possui funções para abrir diverso tipos de arquivos, como .xlsx, .csv, .txt, sendo que aqui vamos focar no .csv\n",
    "    4. A função para abrir arquivos \".csv\" é read_csv\n",
    "    5. Antes disso, precisamos abrir a biblioteca pandas"
   ]
  },
  {
   "cell_type": "code",
   "execution_count": 1,
   "id": "8cf262b6",
   "metadata": {},
   "outputs": [],
   "source": [
    "import pandas as pd"
   ]
  },
  {
   "cell_type": "markdown",
   "id": "2a2b19fd",
   "metadata": {},
   "source": [
    "6. Perceba que tem a opção de dar um 'apelido' para a biblioteca\n",
    "7. Abrir o arquivo diretamente"
   ]
  },
  {
   "cell_type": "code",
   "execution_count": 6,
   "id": "cd42eefd",
   "metadata": {},
   "outputs": [
    {
     "data": {
      "text/html": [
       "<div>\n",
       "<style scoped>\n",
       "    .dataframe tbody tr th:only-of-type {\n",
       "        vertical-align: middle;\n",
       "    }\n",
       "\n",
       "    .dataframe tbody tr th {\n",
       "        vertical-align: top;\n",
       "    }\n",
       "\n",
       "    .dataframe thead th {\n",
       "        text-align: right;\n",
       "    }\n",
       "</style>\n",
       "<table border=\"1\" class=\"dataframe\">\n",
       "  <thead>\n",
       "    <tr style=\"text-align: right;\">\n",
       "      <th></th>\n",
       "      <th>Date</th>\n",
       "      <th>Open</th>\n",
       "      <th>High</th>\n",
       "      <th>Low</th>\n",
       "      <th>Close</th>\n",
       "      <th>Adj Close</th>\n",
       "      <th>Volume</th>\n",
       "    </tr>\n",
       "  </thead>\n",
       "  <tbody>\n",
       "    <tr>\n",
       "      <th>0</th>\n",
       "      <td>2017-07-24</td>\n",
       "      <td>7.392307</td>\n",
       "      <td>7.473076</td>\n",
       "      <td>7.261538</td>\n",
       "      <td>7.426923</td>\n",
       "      <td>7.051007</td>\n",
       "      <td>2638220.0</td>\n",
       "    </tr>\n",
       "    <tr>\n",
       "      <th>1</th>\n",
       "      <td>2017-07-25</td>\n",
       "      <td>7.476923</td>\n",
       "      <td>7.476923</td>\n",
       "      <td>7.307692</td>\n",
       "      <td>7.369230</td>\n",
       "      <td>6.996235</td>\n",
       "      <td>2505880.0</td>\n",
       "    </tr>\n",
       "    <tr>\n",
       "      <th>2</th>\n",
       "      <td>2017-07-26</td>\n",
       "      <td>7.323076</td>\n",
       "      <td>7.442307</td>\n",
       "      <td>7.276923</td>\n",
       "      <td>7.326923</td>\n",
       "      <td>6.956069</td>\n",
       "      <td>2112240.0</td>\n",
       "    </tr>\n",
       "    <tr>\n",
       "      <th>3</th>\n",
       "      <td>2017-07-27</td>\n",
       "      <td>7.388461</td>\n",
       "      <td>7.419230</td>\n",
       "      <td>7.223076</td>\n",
       "      <td>7.269230</td>\n",
       "      <td>6.901296</td>\n",
       "      <td>1910480.0</td>\n",
       "    </tr>\n",
       "    <tr>\n",
       "      <th>4</th>\n",
       "      <td>2017-07-28</td>\n",
       "      <td>7.261538</td>\n",
       "      <td>7.296153</td>\n",
       "      <td>7.165384</td>\n",
       "      <td>7.200000</td>\n",
       "      <td>6.835570</td>\n",
       "      <td>2866760.0</td>\n",
       "    </tr>\n",
       "    <tr>\n",
       "      <th>...</th>\n",
       "      <td>...</td>\n",
       "      <td>...</td>\n",
       "      <td>...</td>\n",
       "      <td>...</td>\n",
       "      <td>...</td>\n",
       "      <td>...</td>\n",
       "      <td>...</td>\n",
       "    </tr>\n",
       "    <tr>\n",
       "      <th>988</th>\n",
       "      <td>2021-07-15</td>\n",
       "      <td>35.000000</td>\n",
       "      <td>35.590000</td>\n",
       "      <td>34.900002</td>\n",
       "      <td>34.919998</td>\n",
       "      <td>34.919998</td>\n",
       "      <td>4807000.0</td>\n",
       "    </tr>\n",
       "    <tr>\n",
       "      <th>989</th>\n",
       "      <td>2021-07-16</td>\n",
       "      <td>35.040001</td>\n",
       "      <td>35.259998</td>\n",
       "      <td>34.209999</td>\n",
       "      <td>34.290001</td>\n",
       "      <td>34.290001</td>\n",
       "      <td>5380000.0</td>\n",
       "    </tr>\n",
       "    <tr>\n",
       "      <th>990</th>\n",
       "      <td>2021-07-19</td>\n",
       "      <td>34.000000</td>\n",
       "      <td>34.369999</td>\n",
       "      <td>33.599998</td>\n",
       "      <td>34.180000</td>\n",
       "      <td>34.180000</td>\n",
       "      <td>4756600.0</td>\n",
       "    </tr>\n",
       "    <tr>\n",
       "      <th>991</th>\n",
       "      <td>2021-07-20</td>\n",
       "      <td>34.049999</td>\n",
       "      <td>34.830002</td>\n",
       "      <td>33.869999</td>\n",
       "      <td>34.549999</td>\n",
       "      <td>34.549999</td>\n",
       "      <td>4042300.0</td>\n",
       "    </tr>\n",
       "    <tr>\n",
       "      <th>992</th>\n",
       "      <td>2021-07-21</td>\n",
       "      <td>34.750000</td>\n",
       "      <td>34.970001</td>\n",
       "      <td>34.099998</td>\n",
       "      <td>34.450001</td>\n",
       "      <td>34.450001</td>\n",
       "      <td>4315700.0</td>\n",
       "    </tr>\n",
       "  </tbody>\n",
       "</table>\n",
       "<p>993 rows × 7 columns</p>\n",
       "</div>"
      ],
      "text/plain": [
       "           Date       Open       High        Low      Close  Adj Close  \\\n",
       "0    2017-07-24   7.392307   7.473076   7.261538   7.426923   7.051007   \n",
       "1    2017-07-25   7.476923   7.476923   7.307692   7.369230   6.996235   \n",
       "2    2017-07-26   7.323076   7.442307   7.276923   7.326923   6.956069   \n",
       "3    2017-07-27   7.388461   7.419230   7.223076   7.269230   6.901296   \n",
       "4    2017-07-28   7.261538   7.296153   7.165384   7.200000   6.835570   \n",
       "..          ...        ...        ...        ...        ...        ...   \n",
       "988  2021-07-15  35.000000  35.590000  34.900002  34.919998  34.919998   \n",
       "989  2021-07-16  35.040001  35.259998  34.209999  34.290001  34.290001   \n",
       "990  2021-07-19  34.000000  34.369999  33.599998  34.180000  34.180000   \n",
       "991  2021-07-20  34.049999  34.830002  33.869999  34.549999  34.549999   \n",
       "992  2021-07-21  34.750000  34.970001  34.099998  34.450001  34.450001   \n",
       "\n",
       "        Volume  \n",
       "0    2638220.0  \n",
       "1    2505880.0  \n",
       "2    2112240.0  \n",
       "3    1910480.0  \n",
       "4    2866760.0  \n",
       "..         ...  \n",
       "988  4807000.0  \n",
       "989  5380000.0  \n",
       "990  4756600.0  \n",
       "991  4042300.0  \n",
       "992  4315700.0  \n",
       "\n",
       "[993 rows x 7 columns]"
      ]
     },
     "execution_count": 6,
     "metadata": {},
     "output_type": "execute_result"
    }
   ],
   "source": [
    "pd.read_csv(\"WEGE3.SA.csv\")"
   ]
  },
  {
   "cell_type": "markdown",
   "id": "fa5c5696",
   "metadata": {},
   "source": [
    "8. A forma acima não é muito prática, pois não estamos armazenando o objeto, apenas exibindo ele aqui no notebook\n",
    "9. A melhor forma seria então colocar essa tabela na memória de algum objeto"
   ]
  },
  {
   "cell_type": "code",
   "execution_count": 8,
   "id": "76e2fca5",
   "metadata": {},
   "outputs": [],
   "source": [
    "arquivo = pd.read_csv('WEGE3.SA.csv')"
   ]
  },
  {
   "cell_type": "code",
   "execution_count": 9,
   "id": "415eef11",
   "metadata": {},
   "outputs": [
    {
     "data": {
      "text/html": [
       "<div>\n",
       "<style scoped>\n",
       "    .dataframe tbody tr th:only-of-type {\n",
       "        vertical-align: middle;\n",
       "    }\n",
       "\n",
       "    .dataframe tbody tr th {\n",
       "        vertical-align: top;\n",
       "    }\n",
       "\n",
       "    .dataframe thead th {\n",
       "        text-align: right;\n",
       "    }\n",
       "</style>\n",
       "<table border=\"1\" class=\"dataframe\">\n",
       "  <thead>\n",
       "    <tr style=\"text-align: right;\">\n",
       "      <th></th>\n",
       "      <th>Date</th>\n",
       "      <th>Open</th>\n",
       "      <th>High</th>\n",
       "      <th>Low</th>\n",
       "      <th>Close</th>\n",
       "      <th>Adj Close</th>\n",
       "      <th>Volume</th>\n",
       "    </tr>\n",
       "  </thead>\n",
       "  <tbody>\n",
       "    <tr>\n",
       "      <th>0</th>\n",
       "      <td>2017-07-24</td>\n",
       "      <td>7.392307</td>\n",
       "      <td>7.473076</td>\n",
       "      <td>7.261538</td>\n",
       "      <td>7.426923</td>\n",
       "      <td>7.051007</td>\n",
       "      <td>2638220.0</td>\n",
       "    </tr>\n",
       "    <tr>\n",
       "      <th>1</th>\n",
       "      <td>2017-07-25</td>\n",
       "      <td>7.476923</td>\n",
       "      <td>7.476923</td>\n",
       "      <td>7.307692</td>\n",
       "      <td>7.369230</td>\n",
       "      <td>6.996235</td>\n",
       "      <td>2505880.0</td>\n",
       "    </tr>\n",
       "    <tr>\n",
       "      <th>2</th>\n",
       "      <td>2017-07-26</td>\n",
       "      <td>7.323076</td>\n",
       "      <td>7.442307</td>\n",
       "      <td>7.276923</td>\n",
       "      <td>7.326923</td>\n",
       "      <td>6.956069</td>\n",
       "      <td>2112240.0</td>\n",
       "    </tr>\n",
       "    <tr>\n",
       "      <th>3</th>\n",
       "      <td>2017-07-27</td>\n",
       "      <td>7.388461</td>\n",
       "      <td>7.419230</td>\n",
       "      <td>7.223076</td>\n",
       "      <td>7.269230</td>\n",
       "      <td>6.901296</td>\n",
       "      <td>1910480.0</td>\n",
       "    </tr>\n",
       "    <tr>\n",
       "      <th>4</th>\n",
       "      <td>2017-07-28</td>\n",
       "      <td>7.261538</td>\n",
       "      <td>7.296153</td>\n",
       "      <td>7.165384</td>\n",
       "      <td>7.200000</td>\n",
       "      <td>6.835570</td>\n",
       "      <td>2866760.0</td>\n",
       "    </tr>\n",
       "    <tr>\n",
       "      <th>...</th>\n",
       "      <td>...</td>\n",
       "      <td>...</td>\n",
       "      <td>...</td>\n",
       "      <td>...</td>\n",
       "      <td>...</td>\n",
       "      <td>...</td>\n",
       "      <td>...</td>\n",
       "    </tr>\n",
       "    <tr>\n",
       "      <th>988</th>\n",
       "      <td>2021-07-15</td>\n",
       "      <td>35.000000</td>\n",
       "      <td>35.590000</td>\n",
       "      <td>34.900002</td>\n",
       "      <td>34.919998</td>\n",
       "      <td>34.919998</td>\n",
       "      <td>4807000.0</td>\n",
       "    </tr>\n",
       "    <tr>\n",
       "      <th>989</th>\n",
       "      <td>2021-07-16</td>\n",
       "      <td>35.040001</td>\n",
       "      <td>35.259998</td>\n",
       "      <td>34.209999</td>\n",
       "      <td>34.290001</td>\n",
       "      <td>34.290001</td>\n",
       "      <td>5380000.0</td>\n",
       "    </tr>\n",
       "    <tr>\n",
       "      <th>990</th>\n",
       "      <td>2021-07-19</td>\n",
       "      <td>34.000000</td>\n",
       "      <td>34.369999</td>\n",
       "      <td>33.599998</td>\n",
       "      <td>34.180000</td>\n",
       "      <td>34.180000</td>\n",
       "      <td>4756600.0</td>\n",
       "    </tr>\n",
       "    <tr>\n",
       "      <th>991</th>\n",
       "      <td>2021-07-20</td>\n",
       "      <td>34.049999</td>\n",
       "      <td>34.830002</td>\n",
       "      <td>33.869999</td>\n",
       "      <td>34.549999</td>\n",
       "      <td>34.549999</td>\n",
       "      <td>4042300.0</td>\n",
       "    </tr>\n",
       "    <tr>\n",
       "      <th>992</th>\n",
       "      <td>2021-07-21</td>\n",
       "      <td>34.750000</td>\n",
       "      <td>34.970001</td>\n",
       "      <td>34.099998</td>\n",
       "      <td>34.450001</td>\n",
       "      <td>34.450001</td>\n",
       "      <td>4315700.0</td>\n",
       "    </tr>\n",
       "  </tbody>\n",
       "</table>\n",
       "<p>993 rows × 7 columns</p>\n",
       "</div>"
      ],
      "text/plain": [
       "           Date       Open       High        Low      Close  Adj Close  \\\n",
       "0    2017-07-24   7.392307   7.473076   7.261538   7.426923   7.051007   \n",
       "1    2017-07-25   7.476923   7.476923   7.307692   7.369230   6.996235   \n",
       "2    2017-07-26   7.323076   7.442307   7.276923   7.326923   6.956069   \n",
       "3    2017-07-27   7.388461   7.419230   7.223076   7.269230   6.901296   \n",
       "4    2017-07-28   7.261538   7.296153   7.165384   7.200000   6.835570   \n",
       "..          ...        ...        ...        ...        ...        ...   \n",
       "988  2021-07-15  35.000000  35.590000  34.900002  34.919998  34.919998   \n",
       "989  2021-07-16  35.040001  35.259998  34.209999  34.290001  34.290001   \n",
       "990  2021-07-19  34.000000  34.369999  33.599998  34.180000  34.180000   \n",
       "991  2021-07-20  34.049999  34.830002  33.869999  34.549999  34.549999   \n",
       "992  2021-07-21  34.750000  34.970001  34.099998  34.450001  34.450001   \n",
       "\n",
       "        Volume  \n",
       "0    2638220.0  \n",
       "1    2505880.0  \n",
       "2    2112240.0  \n",
       "3    1910480.0  \n",
       "4    2866760.0  \n",
       "..         ...  \n",
       "988  4807000.0  \n",
       "989  5380000.0  \n",
       "990  4756600.0  \n",
       "991  4042300.0  \n",
       "992  4315700.0  \n",
       "\n",
       "[993 rows x 7 columns]"
      ]
     },
     "execution_count": 9,
     "metadata": {},
     "output_type": "execute_result"
    }
   ],
   "source": [
    "# 10. chamando o 'objeto'\n",
    "arquivo"
   ]
  },
  {
   "cell_type": "code",
   "execution_count": 11,
   "id": "663c85f5",
   "metadata": {},
   "outputs": [
    {
     "data": {
      "text/html": [
       "<div>\n",
       "<style scoped>\n",
       "    .dataframe tbody tr th:only-of-type {\n",
       "        vertical-align: middle;\n",
       "    }\n",
       "\n",
       "    .dataframe tbody tr th {\n",
       "        vertical-align: top;\n",
       "    }\n",
       "\n",
       "    .dataframe thead th {\n",
       "        text-align: right;\n",
       "    }\n",
       "</style>\n",
       "<table border=\"1\" class=\"dataframe\">\n",
       "  <thead>\n",
       "    <tr style=\"text-align: right;\">\n",
       "      <th></th>\n",
       "      <th>Date</th>\n",
       "      <th>Open</th>\n",
       "      <th>High</th>\n",
       "      <th>Low</th>\n",
       "      <th>Close</th>\n",
       "      <th>Adj Close</th>\n",
       "      <th>Volume</th>\n",
       "    </tr>\n",
       "  </thead>\n",
       "  <tbody>\n",
       "    <tr>\n",
       "      <th>0</th>\n",
       "      <td>2017-07-24</td>\n",
       "      <td>7.392307</td>\n",
       "      <td>7.473076</td>\n",
       "      <td>7.261538</td>\n",
       "      <td>7.426923</td>\n",
       "      <td>7.051007</td>\n",
       "      <td>2638220.0</td>\n",
       "    </tr>\n",
       "    <tr>\n",
       "      <th>1</th>\n",
       "      <td>2017-07-25</td>\n",
       "      <td>7.476923</td>\n",
       "      <td>7.476923</td>\n",
       "      <td>7.307692</td>\n",
       "      <td>7.369230</td>\n",
       "      <td>6.996235</td>\n",
       "      <td>2505880.0</td>\n",
       "    </tr>\n",
       "    <tr>\n",
       "      <th>2</th>\n",
       "      <td>2017-07-26</td>\n",
       "      <td>7.323076</td>\n",
       "      <td>7.442307</td>\n",
       "      <td>7.276923</td>\n",
       "      <td>7.326923</td>\n",
       "      <td>6.956069</td>\n",
       "      <td>2112240.0</td>\n",
       "    </tr>\n",
       "    <tr>\n",
       "      <th>3</th>\n",
       "      <td>2017-07-27</td>\n",
       "      <td>7.388461</td>\n",
       "      <td>7.419230</td>\n",
       "      <td>7.223076</td>\n",
       "      <td>7.269230</td>\n",
       "      <td>6.901296</td>\n",
       "      <td>1910480.0</td>\n",
       "    </tr>\n",
       "    <tr>\n",
       "      <th>4</th>\n",
       "      <td>2017-07-28</td>\n",
       "      <td>7.261538</td>\n",
       "      <td>7.296153</td>\n",
       "      <td>7.165384</td>\n",
       "      <td>7.200000</td>\n",
       "      <td>6.835570</td>\n",
       "      <td>2866760.0</td>\n",
       "    </tr>\n",
       "  </tbody>\n",
       "</table>\n",
       "</div>"
      ],
      "text/plain": [
       "         Date      Open      High       Low     Close  Adj Close     Volume\n",
       "0  2017-07-24  7.392307  7.473076  7.261538  7.426923   7.051007  2638220.0\n",
       "1  2017-07-25  7.476923  7.476923  7.307692  7.369230   6.996235  2505880.0\n",
       "2  2017-07-26  7.323076  7.442307  7.276923  7.326923   6.956069  2112240.0\n",
       "3  2017-07-27  7.388461  7.419230  7.223076  7.269230   6.901296  1910480.0\n",
       "4  2017-07-28  7.261538  7.296153  7.165384  7.200000   6.835570  2866760.0"
      ]
     },
     "execution_count": 11,
     "metadata": {},
     "output_type": "execute_result"
    }
   ],
   "source": [
    "# 11. Ele tem 993 linha e 7 colunas, ou seja, é muito grande para ser exibido inteiro no Python. Para visualizar apenas as 5 primeiras ou últimas linha dessa tabela, o pandas tem métodos prontos para isso.\n",
    "arquivo.head()"
   ]
  },
  {
   "cell_type": "code",
   "execution_count": 12,
   "id": "45b59187",
   "metadata": {},
   "outputs": [
    {
     "data": {
      "text/html": [
       "<div>\n",
       "<style scoped>\n",
       "    .dataframe tbody tr th:only-of-type {\n",
       "        vertical-align: middle;\n",
       "    }\n",
       "\n",
       "    .dataframe tbody tr th {\n",
       "        vertical-align: top;\n",
       "    }\n",
       "\n",
       "    .dataframe thead th {\n",
       "        text-align: right;\n",
       "    }\n",
       "</style>\n",
       "<table border=\"1\" class=\"dataframe\">\n",
       "  <thead>\n",
       "    <tr style=\"text-align: right;\">\n",
       "      <th></th>\n",
       "      <th>Date</th>\n",
       "      <th>Open</th>\n",
       "      <th>High</th>\n",
       "      <th>Low</th>\n",
       "      <th>Close</th>\n",
       "      <th>Adj Close</th>\n",
       "      <th>Volume</th>\n",
       "    </tr>\n",
       "  </thead>\n",
       "  <tbody>\n",
       "    <tr>\n",
       "      <th>988</th>\n",
       "      <td>2021-07-15</td>\n",
       "      <td>35.000000</td>\n",
       "      <td>35.590000</td>\n",
       "      <td>34.900002</td>\n",
       "      <td>34.919998</td>\n",
       "      <td>34.919998</td>\n",
       "      <td>4807000.0</td>\n",
       "    </tr>\n",
       "    <tr>\n",
       "      <th>989</th>\n",
       "      <td>2021-07-16</td>\n",
       "      <td>35.040001</td>\n",
       "      <td>35.259998</td>\n",
       "      <td>34.209999</td>\n",
       "      <td>34.290001</td>\n",
       "      <td>34.290001</td>\n",
       "      <td>5380000.0</td>\n",
       "    </tr>\n",
       "    <tr>\n",
       "      <th>990</th>\n",
       "      <td>2021-07-19</td>\n",
       "      <td>34.000000</td>\n",
       "      <td>34.369999</td>\n",
       "      <td>33.599998</td>\n",
       "      <td>34.180000</td>\n",
       "      <td>34.180000</td>\n",
       "      <td>4756600.0</td>\n",
       "    </tr>\n",
       "    <tr>\n",
       "      <th>991</th>\n",
       "      <td>2021-07-20</td>\n",
       "      <td>34.049999</td>\n",
       "      <td>34.830002</td>\n",
       "      <td>33.869999</td>\n",
       "      <td>34.549999</td>\n",
       "      <td>34.549999</td>\n",
       "      <td>4042300.0</td>\n",
       "    </tr>\n",
       "    <tr>\n",
       "      <th>992</th>\n",
       "      <td>2021-07-21</td>\n",
       "      <td>34.750000</td>\n",
       "      <td>34.970001</td>\n",
       "      <td>34.099998</td>\n",
       "      <td>34.450001</td>\n",
       "      <td>34.450001</td>\n",
       "      <td>4315700.0</td>\n",
       "    </tr>\n",
       "  </tbody>\n",
       "</table>\n",
       "</div>"
      ],
      "text/plain": [
       "           Date       Open       High        Low      Close  Adj Close  \\\n",
       "988  2021-07-15  35.000000  35.590000  34.900002  34.919998  34.919998   \n",
       "989  2021-07-16  35.040001  35.259998  34.209999  34.290001  34.290001   \n",
       "990  2021-07-19  34.000000  34.369999  33.599998  34.180000  34.180000   \n",
       "991  2021-07-20  34.049999  34.830002  33.869999  34.549999  34.549999   \n",
       "992  2021-07-21  34.750000  34.970001  34.099998  34.450001  34.450001   \n",
       "\n",
       "        Volume  \n",
       "988  4807000.0  \n",
       "989  5380000.0  \n",
       "990  4756600.0  \n",
       "991  4042300.0  \n",
       "992  4315700.0  "
      ]
     },
     "execution_count": 12,
     "metadata": {},
     "output_type": "execute_result"
    }
   ],
   "source": [
    "arquivo.tail()"
   ]
  },
  {
   "cell_type": "code",
   "execution_count": 13,
   "id": "9eff3e86",
   "metadata": {},
   "outputs": [
    {
     "data": {
      "text/html": [
       "<div>\n",
       "<style scoped>\n",
       "    .dataframe tbody tr th:only-of-type {\n",
       "        vertical-align: middle;\n",
       "    }\n",
       "\n",
       "    .dataframe tbody tr th {\n",
       "        vertical-align: top;\n",
       "    }\n",
       "\n",
       "    .dataframe thead th {\n",
       "        text-align: right;\n",
       "    }\n",
       "</style>\n",
       "<table border=\"1\" class=\"dataframe\">\n",
       "  <thead>\n",
       "    <tr style=\"text-align: right;\">\n",
       "      <th></th>\n",
       "      <th>Date</th>\n",
       "      <th>Open</th>\n",
       "      <th>High</th>\n",
       "      <th>Low</th>\n",
       "      <th>Close</th>\n",
       "      <th>Adj Close</th>\n",
       "      <th>Volume</th>\n",
       "    </tr>\n",
       "  </thead>\n",
       "  <tbody>\n",
       "    <tr>\n",
       "      <th>0</th>\n",
       "      <td>2017-07-24</td>\n",
       "      <td>7.392307</td>\n",
       "      <td>7.473076</td>\n",
       "      <td>7.261538</td>\n",
       "      <td>7.426923</td>\n",
       "      <td>7.051007</td>\n",
       "      <td>2638220.0</td>\n",
       "    </tr>\n",
       "    <tr>\n",
       "      <th>1</th>\n",
       "      <td>2017-07-25</td>\n",
       "      <td>7.476923</td>\n",
       "      <td>7.476923</td>\n",
       "      <td>7.307692</td>\n",
       "      <td>7.369230</td>\n",
       "      <td>6.996235</td>\n",
       "      <td>2505880.0</td>\n",
       "    </tr>\n",
       "    <tr>\n",
       "      <th>2</th>\n",
       "      <td>2017-07-26</td>\n",
       "      <td>7.323076</td>\n",
       "      <td>7.442307</td>\n",
       "      <td>7.276923</td>\n",
       "      <td>7.326923</td>\n",
       "      <td>6.956069</td>\n",
       "      <td>2112240.0</td>\n",
       "    </tr>\n",
       "    <tr>\n",
       "      <th>3</th>\n",
       "      <td>2017-07-27</td>\n",
       "      <td>7.388461</td>\n",
       "      <td>7.419230</td>\n",
       "      <td>7.223076</td>\n",
       "      <td>7.269230</td>\n",
       "      <td>6.901296</td>\n",
       "      <td>1910480.0</td>\n",
       "    </tr>\n",
       "    <tr>\n",
       "      <th>4</th>\n",
       "      <td>2017-07-28</td>\n",
       "      <td>7.261538</td>\n",
       "      <td>7.296153</td>\n",
       "      <td>7.165384</td>\n",
       "      <td>7.200000</td>\n",
       "      <td>6.835570</td>\n",
       "      <td>2866760.0</td>\n",
       "    </tr>\n",
       "    <tr>\n",
       "      <th>5</th>\n",
       "      <td>2017-07-31</td>\n",
       "      <td>7.211538</td>\n",
       "      <td>7.303846</td>\n",
       "      <td>7.211538</td>\n",
       "      <td>7.284615</td>\n",
       "      <td>6.915902</td>\n",
       "      <td>2787980.0</td>\n",
       "    </tr>\n",
       "    <tr>\n",
       "      <th>6</th>\n",
       "      <td>2017-08-01</td>\n",
       "      <td>7.307692</td>\n",
       "      <td>7.480769</td>\n",
       "      <td>7.265384</td>\n",
       "      <td>7.365384</td>\n",
       "      <td>6.992584</td>\n",
       "      <td>4247360.0</td>\n",
       "    </tr>\n",
       "    <tr>\n",
       "      <th>7</th>\n",
       "      <td>2017-08-02</td>\n",
       "      <td>7.369230</td>\n",
       "      <td>7.569230</td>\n",
       "      <td>7.369230</td>\n",
       "      <td>7.507692</td>\n",
       "      <td>7.127687</td>\n",
       "      <td>5018520.0</td>\n",
       "    </tr>\n",
       "    <tr>\n",
       "      <th>8</th>\n",
       "      <td>2017-08-03</td>\n",
       "      <td>7.523076</td>\n",
       "      <td>7.561538</td>\n",
       "      <td>7.311538</td>\n",
       "      <td>7.373076</td>\n",
       "      <td>6.999886</td>\n",
       "      <td>3764280.0</td>\n",
       "    </tr>\n",
       "    <tr>\n",
       "      <th>9</th>\n",
       "      <td>2017-08-04</td>\n",
       "      <td>7.403846</td>\n",
       "      <td>7.442307</td>\n",
       "      <td>7.342307</td>\n",
       "      <td>7.361538</td>\n",
       "      <td>6.988931</td>\n",
       "      <td>2427360.0</td>\n",
       "    </tr>\n",
       "  </tbody>\n",
       "</table>\n",
       "</div>"
      ],
      "text/plain": [
       "         Date      Open      High       Low     Close  Adj Close     Volume\n",
       "0  2017-07-24  7.392307  7.473076  7.261538  7.426923   7.051007  2638220.0\n",
       "1  2017-07-25  7.476923  7.476923  7.307692  7.369230   6.996235  2505880.0\n",
       "2  2017-07-26  7.323076  7.442307  7.276923  7.326923   6.956069  2112240.0\n",
       "3  2017-07-27  7.388461  7.419230  7.223076  7.269230   6.901296  1910480.0\n",
       "4  2017-07-28  7.261538  7.296153  7.165384  7.200000   6.835570  2866760.0\n",
       "5  2017-07-31  7.211538  7.303846  7.211538  7.284615   6.915902  2787980.0\n",
       "6  2017-08-01  7.307692  7.480769  7.265384  7.365384   6.992584  4247360.0\n",
       "7  2017-08-02  7.369230  7.569230  7.369230  7.507692   7.127687  5018520.0\n",
       "8  2017-08-03  7.523076  7.561538  7.311538  7.373076   6.999886  3764280.0\n",
       "9  2017-08-04  7.403846  7.442307  7.342307  7.361538   6.988931  2427360.0"
      ]
     },
     "execution_count": 13,
     "metadata": {},
     "output_type": "execute_result"
    }
   ],
   "source": [
    "# 12. Essas funções admitem outro N números de linha, tais como:\n",
    "\n",
    "arquivo.head(10)"
   ]
  },
  {
   "cell_type": "markdown",
   "id": "10668ee2",
   "metadata": {},
   "source": [
    "# 3.3. Manipulação de diretórios"
   ]
  },
  {
   "cell_type": "markdown",
   "id": "002548e8",
   "metadata": {},
   "source": [
    "13. Fazendo algumas modificações e ajuste um  pouco mais avançados. E se o arquivo não estiver na pasta onde está o código que foi criado:"
   ]
  },
  {
   "cell_type": "code",
   "execution_count": 14,
   "id": "337f1450",
   "metadata": {},
   "outputs": [],
   "source": [
    "# 14. primeiro verificar qual o endereço que o Python está 'vendo' naquele momento\n",
    "\n",
    "import os"
   ]
  },
  {
   "cell_type": "code",
   "execution_count": 16,
   "id": "ebdcb8da",
   "metadata": {},
   "outputs": [],
   "source": [
    "caminho = os.getcwd()"
   ]
  },
  {
   "cell_type": "code",
   "execution_count": 17,
   "id": "1460b4aa",
   "metadata": {},
   "outputs": [
    {
     "data": {
      "text/plain": [
       "'C:\\\\Users\\\\JEFFERSON LUIS\\\\OneDrive - FAT - Fundação de Apoio a Tecnologia (1)\\\\Modal Banco\\\\Python para Traders'"
      ]
     },
     "execution_count": 17,
     "metadata": {},
     "output_type": "execute_result"
    }
   ],
   "source": [
    "caminho"
   ]
  },
  {
   "cell_type": "code",
   "execution_count": 18,
   "id": "d056ec7b",
   "metadata": {},
   "outputs": [],
   "source": [
    "novo_caminho = caminho  + '\\\\Arquivos'"
   ]
  },
  {
   "cell_type": "code",
   "execution_count": 19,
   "id": "261db556",
   "metadata": {},
   "outputs": [
    {
     "data": {
      "text/plain": [
       "'C:\\\\Users\\\\JEFFERSON LUIS\\\\OneDrive - FAT - Fundação de Apoio a Tecnologia (1)\\\\Modal Banco\\\\Python para Traders\\\\Arquivos'"
      ]
     },
     "execution_count": 19,
     "metadata": {},
     "output_type": "execute_result"
    }
   ],
   "source": [
    "novo_caminho"
   ]
  },
  {
   "cell_type": "markdown",
   "id": "c4d5a7c4",
   "metadata": {},
   "source": [
    "15. Se for alterar o diretório... Basta usar o seguinte comando:"
   ]
  },
  {
   "cell_type": "code",
   "execution_count": 20,
   "id": "03f77d55",
   "metadata": {},
   "outputs": [],
   "source": [
    "os.chdir(novo_caminho)"
   ]
  },
  {
   "cell_type": "code",
   "execution_count": 21,
   "id": "99988922",
   "metadata": {},
   "outputs": [
    {
     "data": {
      "text/plain": [
       "'C:\\\\Users\\\\JEFFERSON LUIS\\\\OneDrive - FAT - Fundação de Apoio a Tecnologia (1)\\\\Modal Banco\\\\Python para Traders\\\\Arquivos'"
      ]
     },
     "execution_count": 21,
     "metadata": {},
     "output_type": "execute_result"
    }
   ],
   "source": [
    "# fazendo a verificação \n",
    "\n",
    "os.getcwd()"
   ]
  },
  {
   "cell_type": "markdown",
   "id": "e91e4f04",
   "metadata": {},
   "source": [
    "## 3.4. Visualização de dados"
   ]
  },
  {
   "cell_type": "markdown",
   "id": "03eca0da",
   "metadata": {},
   "source": [
    "16. Se quiséssemos uma visualização da ação, da forma mais simples possível"
   ]
  },
  {
   "cell_type": "code",
   "execution_count": 22,
   "id": "6faddd8a",
   "metadata": {},
   "outputs": [
    {
     "data": {
      "text/plain": [
       "<matplotlib.axes._subplots.AxesSubplot at 0x18f782ed280>"
      ]
     },
     "execution_count": 22,
     "metadata": {},
     "output_type": "execute_result"
    },
    {
     "data": {
      "image/png": "[encoded data removed]",
      "text/plain": [
       "<Figure size 432x288 with 1 Axes>"
      ]
     },
     "metadata": {
      "needs_background": "light"
     },
     "output_type": "display_data"
    }
   ],
   "source": [
    "arquivo.Close.plot()"
   ]
  },
  {
   "cell_type": "markdown",
   "id": "822c253d",
   "metadata": {},
   "source": [
    "## 3.5. Manipulação de dados"
   ]
  },
  {
   "cell_type": "markdown",
   "id": "dc5d8680",
   "metadata": {},
   "source": [
    "Perceba que no nosso dataframe a data está como coluna, e não como índice.\n",
    "\n",
    "Mas o que é o indice de um dataframe afinal....\n",
    "\n",
    "Vamos mostrar alguns filtros básicos aqui como .loc e .iloc"
   ]
  },
  {
   "cell_type": "code",
   "execution_count": 23,
   "id": "2b99b815",
   "metadata": {},
   "outputs": [
    {
     "data": {
      "text/html": [
       "<div>\n",
       "<style scoped>\n",
       "    .dataframe tbody tr th:only-of-type {\n",
       "        vertical-align: middle;\n",
       "    }\n",
       "\n",
       "    .dataframe tbody tr th {\n",
       "        vertical-align: top;\n",
       "    }\n",
       "\n",
       "    .dataframe thead th {\n",
       "        text-align: right;\n",
       "    }\n",
       "</style>\n",
       "<table border=\"1\" class=\"dataframe\">\n",
       "  <thead>\n",
       "    <tr style=\"text-align: right;\">\n",
       "      <th></th>\n",
       "      <th>Date</th>\n",
       "      <th>Open</th>\n",
       "      <th>High</th>\n",
       "      <th>Low</th>\n",
       "      <th>Close</th>\n",
       "      <th>Adj Close</th>\n",
       "      <th>Volume</th>\n",
       "    </tr>\n",
       "  </thead>\n",
       "  <tbody>\n",
       "    <tr>\n",
       "      <th>0</th>\n",
       "      <td>2017-07-24</td>\n",
       "      <td>7.392307</td>\n",
       "      <td>7.473076</td>\n",
       "      <td>7.261538</td>\n",
       "      <td>7.426923</td>\n",
       "      <td>7.051007</td>\n",
       "      <td>2638220.0</td>\n",
       "    </tr>\n",
       "    <tr>\n",
       "      <th>1</th>\n",
       "      <td>2017-07-25</td>\n",
       "      <td>7.476923</td>\n",
       "      <td>7.476923</td>\n",
       "      <td>7.307692</td>\n",
       "      <td>7.369230</td>\n",
       "      <td>6.996235</td>\n",
       "      <td>2505880.0</td>\n",
       "    </tr>\n",
       "    <tr>\n",
       "      <th>2</th>\n",
       "      <td>2017-07-26</td>\n",
       "      <td>7.323076</td>\n",
       "      <td>7.442307</td>\n",
       "      <td>7.276923</td>\n",
       "      <td>7.326923</td>\n",
       "      <td>6.956069</td>\n",
       "      <td>2112240.0</td>\n",
       "    </tr>\n",
       "    <tr>\n",
       "      <th>3</th>\n",
       "      <td>2017-07-27</td>\n",
       "      <td>7.388461</td>\n",
       "      <td>7.419230</td>\n",
       "      <td>7.223076</td>\n",
       "      <td>7.269230</td>\n",
       "      <td>6.901296</td>\n",
       "      <td>1910480.0</td>\n",
       "    </tr>\n",
       "    <tr>\n",
       "      <th>4</th>\n",
       "      <td>2017-07-28</td>\n",
       "      <td>7.261538</td>\n",
       "      <td>7.296153</td>\n",
       "      <td>7.165384</td>\n",
       "      <td>7.200000</td>\n",
       "      <td>6.835570</td>\n",
       "      <td>2866760.0</td>\n",
       "    </tr>\n",
       "  </tbody>\n",
       "</table>\n",
       "</div>"
      ],
      "text/plain": [
       "         Date      Open      High       Low     Close  Adj Close     Volume\n",
       "0  2017-07-24  7.392307  7.473076  7.261538  7.426923   7.051007  2638220.0\n",
       "1  2017-07-25  7.476923  7.476923  7.307692  7.369230   6.996235  2505880.0\n",
       "2  2017-07-26  7.323076  7.442307  7.276923  7.326923   6.956069  2112240.0\n",
       "3  2017-07-27  7.388461  7.419230  7.223076  7.269230   6.901296  1910480.0\n",
       "4  2017-07-28  7.261538  7.296153  7.165384  7.200000   6.835570  2866760.0"
      ]
     },
     "execution_count": 23,
     "metadata": {},
     "output_type": "execute_result"
    }
   ],
   "source": [
    "arquivo.head()"
   ]
  },
  {
   "cell_type": "markdown",
   "id": "bfcc7a3b",
   "metadata": {},
   "source": [
    "Transformando a data em índice"
   ]
  },
  {
   "cell_type": "code",
   "execution_count": 24,
   "id": "8cb11480",
   "metadata": {},
   "outputs": [],
   "source": [
    "arquivo.index = arquivo.Date"
   ]
  },
  {
   "cell_type": "code",
   "execution_count": 25,
   "id": "c087d0a5",
   "metadata": {},
   "outputs": [
    {
     "data": {
      "text/html": [
       "<div>\n",
       "<style scoped>\n",
       "    .dataframe tbody tr th:only-of-type {\n",
       "        vertical-align: middle;\n",
       "    }\n",
       "\n",
       "    .dataframe tbody tr th {\n",
       "        vertical-align: top;\n",
       "    }\n",
       "\n",
       "    .dataframe thead th {\n",
       "        text-align: right;\n",
       "    }\n",
       "</style>\n",
       "<table border=\"1\" class=\"dataframe\">\n",
       "  <thead>\n",
       "    <tr style=\"text-align: right;\">\n",
       "      <th></th>\n",
       "      <th>Date</th>\n",
       "      <th>Open</th>\n",
       "      <th>High</th>\n",
       "      <th>Low</th>\n",
       "      <th>Close</th>\n",
       "      <th>Adj Close</th>\n",
       "      <th>Volume</th>\n",
       "    </tr>\n",
       "    <tr>\n",
       "      <th>Date</th>\n",
       "      <th></th>\n",
       "      <th></th>\n",
       "      <th></th>\n",
       "      <th></th>\n",
       "      <th></th>\n",
       "      <th></th>\n",
       "      <th></th>\n",
       "    </tr>\n",
       "  </thead>\n",
       "  <tbody>\n",
       "    <tr>\n",
       "      <th>2017-07-24</th>\n",
       "      <td>2017-07-24</td>\n",
       "      <td>7.392307</td>\n",
       "      <td>7.473076</td>\n",
       "      <td>7.261538</td>\n",
       "      <td>7.426923</td>\n",
       "      <td>7.051007</td>\n",
       "      <td>2638220.0</td>\n",
       "    </tr>\n",
       "    <tr>\n",
       "      <th>2017-07-25</th>\n",
       "      <td>2017-07-25</td>\n",
       "      <td>7.476923</td>\n",
       "      <td>7.476923</td>\n",
       "      <td>7.307692</td>\n",
       "      <td>7.369230</td>\n",
       "      <td>6.996235</td>\n",
       "      <td>2505880.0</td>\n",
       "    </tr>\n",
       "    <tr>\n",
       "      <th>2017-07-26</th>\n",
       "      <td>2017-07-26</td>\n",
       "      <td>7.323076</td>\n",
       "      <td>7.442307</td>\n",
       "      <td>7.276923</td>\n",
       "      <td>7.326923</td>\n",
       "      <td>6.956069</td>\n",
       "      <td>2112240.0</td>\n",
       "    </tr>\n",
       "    <tr>\n",
       "      <th>2017-07-27</th>\n",
       "      <td>2017-07-27</td>\n",
       "      <td>7.388461</td>\n",
       "      <td>7.419230</td>\n",
       "      <td>7.223076</td>\n",
       "      <td>7.269230</td>\n",
       "      <td>6.901296</td>\n",
       "      <td>1910480.0</td>\n",
       "    </tr>\n",
       "    <tr>\n",
       "      <th>2017-07-28</th>\n",
       "      <td>2017-07-28</td>\n",
       "      <td>7.261538</td>\n",
       "      <td>7.296153</td>\n",
       "      <td>7.165384</td>\n",
       "      <td>7.200000</td>\n",
       "      <td>6.835570</td>\n",
       "      <td>2866760.0</td>\n",
       "    </tr>\n",
       "  </tbody>\n",
       "</table>\n",
       "</div>"
      ],
      "text/plain": [
       "                  Date      Open      High       Low     Close  Adj Close  \\\n",
       "Date                                                                        \n",
       "2017-07-24  2017-07-24  7.392307  7.473076  7.261538  7.426923   7.051007   \n",
       "2017-07-25  2017-07-25  7.476923  7.476923  7.307692  7.369230   6.996235   \n",
       "2017-07-26  2017-07-26  7.323076  7.442307  7.276923  7.326923   6.956069   \n",
       "2017-07-27  2017-07-27  7.388461  7.419230  7.223076  7.269230   6.901296   \n",
       "2017-07-28  2017-07-28  7.261538  7.296153  7.165384  7.200000   6.835570   \n",
       "\n",
       "               Volume  \n",
       "Date                   \n",
       "2017-07-24  2638220.0  \n",
       "2017-07-25  2505880.0  \n",
       "2017-07-26  2112240.0  \n",
       "2017-07-27  1910480.0  \n",
       "2017-07-28  2866760.0  "
      ]
     },
     "execution_count": 25,
     "metadata": {},
     "output_type": "execute_result"
    }
   ],
   "source": [
    "arquivo.head()"
   ]
  },
  {
   "cell_type": "markdown",
   "id": "7a464710",
   "metadata": {},
   "source": [
    "Observe que agora a data se tornou o índice \n",
    "Vamos agora remover então a coluna 'Date' para que não haja redundância"
   ]
  },
  {
   "cell_type": "code",
   "execution_count": 26,
   "id": "57249ac6",
   "metadata": {},
   "outputs": [],
   "source": [
    "arquivo.drop(['Date'], axis=1, inplace=True)"
   ]
  },
  {
   "cell_type": "code",
   "execution_count": 27,
   "id": "ceb3a67c",
   "metadata": {},
   "outputs": [
    {
     "data": {
      "text/html": [
       "<div>\n",
       "<style scoped>\n",
       "    .dataframe tbody tr th:only-of-type {\n",
       "        vertical-align: middle;\n",
       "    }\n",
       "\n",
       "    .dataframe tbody tr th {\n",
       "        vertical-align: top;\n",
       "    }\n",
       "\n",
       "    .dataframe thead th {\n",
       "        text-align: right;\n",
       "    }\n",
       "</style>\n",
       "<table border=\"1\" class=\"dataframe\">\n",
       "  <thead>\n",
       "    <tr style=\"text-align: right;\">\n",
       "      <th></th>\n",
       "      <th>Open</th>\n",
       "      <th>High</th>\n",
       "      <th>Low</th>\n",
       "      <th>Close</th>\n",
       "      <th>Adj Close</th>\n",
       "      <th>Volume</th>\n",
       "    </tr>\n",
       "    <tr>\n",
       "      <th>Date</th>\n",
       "      <th></th>\n",
       "      <th></th>\n",
       "      <th></th>\n",
       "      <th></th>\n",
       "      <th></th>\n",
       "      <th></th>\n",
       "    </tr>\n",
       "  </thead>\n",
       "  <tbody>\n",
       "    <tr>\n",
       "      <th>2017-07-24</th>\n",
       "      <td>7.392307</td>\n",
       "      <td>7.473076</td>\n",
       "      <td>7.261538</td>\n",
       "      <td>7.426923</td>\n",
       "      <td>7.051007</td>\n",
       "      <td>2638220.0</td>\n",
       "    </tr>\n",
       "    <tr>\n",
       "      <th>2017-07-25</th>\n",
       "      <td>7.476923</td>\n",
       "      <td>7.476923</td>\n",
       "      <td>7.307692</td>\n",
       "      <td>7.369230</td>\n",
       "      <td>6.996235</td>\n",
       "      <td>2505880.0</td>\n",
       "    </tr>\n",
       "    <tr>\n",
       "      <th>2017-07-26</th>\n",
       "      <td>7.323076</td>\n",
       "      <td>7.442307</td>\n",
       "      <td>7.276923</td>\n",
       "      <td>7.326923</td>\n",
       "      <td>6.956069</td>\n",
       "      <td>2112240.0</td>\n",
       "    </tr>\n",
       "    <tr>\n",
       "      <th>2017-07-27</th>\n",
       "      <td>7.388461</td>\n",
       "      <td>7.419230</td>\n",
       "      <td>7.223076</td>\n",
       "      <td>7.269230</td>\n",
       "      <td>6.901296</td>\n",
       "      <td>1910480.0</td>\n",
       "    </tr>\n",
       "    <tr>\n",
       "      <th>2017-07-28</th>\n",
       "      <td>7.261538</td>\n",
       "      <td>7.296153</td>\n",
       "      <td>7.165384</td>\n",
       "      <td>7.200000</td>\n",
       "      <td>6.835570</td>\n",
       "      <td>2866760.0</td>\n",
       "    </tr>\n",
       "  </tbody>\n",
       "</table>\n",
       "</div>"
      ],
      "text/plain": [
       "                Open      High       Low     Close  Adj Close     Volume\n",
       "Date                                                                    \n",
       "2017-07-24  7.392307  7.473076  7.261538  7.426923   7.051007  2638220.0\n",
       "2017-07-25  7.476923  7.476923  7.307692  7.369230   6.996235  2505880.0\n",
       "2017-07-26  7.323076  7.442307  7.276923  7.326923   6.956069  2112240.0\n",
       "2017-07-27  7.388461  7.419230  7.223076  7.269230   6.901296  1910480.0\n",
       "2017-07-28  7.261538  7.296153  7.165384  7.200000   6.835570  2866760.0"
      ]
     },
     "execution_count": 27,
     "metadata": {},
     "output_type": "execute_result"
    }
   ],
   "source": [
    "arquivo.head()"
   ]
  },
  {
   "cell_type": "markdown",
   "id": "8f0ba183",
   "metadata": {},
   "source": [
    "Construindo um novo dataFrame contendo apenas as informações de cotação e excluindo o Volume... \n",
    "Precisamos usar o método .copy"
   ]
  },
  {
   "cell_type": "code",
   "execution_count": 28,
   "id": "e3b17680",
   "metadata": {},
   "outputs": [],
   "source": [
    "cotacoes = arquivo.copy()"
   ]
  },
  {
   "cell_type": "code",
   "execution_count": 30,
   "id": "779239c8",
   "metadata": {},
   "outputs": [
    {
     "data": {
      "text/html": [
       "<div>\n",
       "<style scoped>\n",
       "    .dataframe tbody tr th:only-of-type {\n",
       "        vertical-align: middle;\n",
       "    }\n",
       "\n",
       "    .dataframe tbody tr th {\n",
       "        vertical-align: top;\n",
       "    }\n",
       "\n",
       "    .dataframe thead th {\n",
       "        text-align: right;\n",
       "    }\n",
       "</style>\n",
       "<table border=\"1\" class=\"dataframe\">\n",
       "  <thead>\n",
       "    <tr style=\"text-align: right;\">\n",
       "      <th></th>\n",
       "      <th>Open</th>\n",
       "      <th>High</th>\n",
       "      <th>Low</th>\n",
       "      <th>Close</th>\n",
       "      <th>Adj Close</th>\n",
       "      <th>Volume</th>\n",
       "    </tr>\n",
       "    <tr>\n",
       "      <th>Date</th>\n",
       "      <th></th>\n",
       "      <th></th>\n",
       "      <th></th>\n",
       "      <th></th>\n",
       "      <th></th>\n",
       "      <th></th>\n",
       "    </tr>\n",
       "  </thead>\n",
       "  <tbody>\n",
       "    <tr>\n",
       "      <th>2017-07-24</th>\n",
       "      <td>7.392307</td>\n",
       "      <td>7.473076</td>\n",
       "      <td>7.261538</td>\n",
       "      <td>7.426923</td>\n",
       "      <td>7.051007</td>\n",
       "      <td>2638220.0</td>\n",
       "    </tr>\n",
       "    <tr>\n",
       "      <th>2017-07-25</th>\n",
       "      <td>7.476923</td>\n",
       "      <td>7.476923</td>\n",
       "      <td>7.307692</td>\n",
       "      <td>7.369230</td>\n",
       "      <td>6.996235</td>\n",
       "      <td>2505880.0</td>\n",
       "    </tr>\n",
       "    <tr>\n",
       "      <th>2017-07-26</th>\n",
       "      <td>7.323076</td>\n",
       "      <td>7.442307</td>\n",
       "      <td>7.276923</td>\n",
       "      <td>7.326923</td>\n",
       "      <td>6.956069</td>\n",
       "      <td>2112240.0</td>\n",
       "    </tr>\n",
       "    <tr>\n",
       "      <th>2017-07-27</th>\n",
       "      <td>7.388461</td>\n",
       "      <td>7.419230</td>\n",
       "      <td>7.223076</td>\n",
       "      <td>7.269230</td>\n",
       "      <td>6.901296</td>\n",
       "      <td>1910480.0</td>\n",
       "    </tr>\n",
       "    <tr>\n",
       "      <th>2017-07-28</th>\n",
       "      <td>7.261538</td>\n",
       "      <td>7.296153</td>\n",
       "      <td>7.165384</td>\n",
       "      <td>7.200000</td>\n",
       "      <td>6.835570</td>\n",
       "      <td>2866760.0</td>\n",
       "    </tr>\n",
       "  </tbody>\n",
       "</table>\n",
       "</div>"
      ],
      "text/plain": [
       "                Open      High       Low     Close  Adj Close     Volume\n",
       "Date                                                                    \n",
       "2017-07-24  7.392307  7.473076  7.261538  7.426923   7.051007  2638220.0\n",
       "2017-07-25  7.476923  7.476923  7.307692  7.369230   6.996235  2505880.0\n",
       "2017-07-26  7.323076  7.442307  7.276923  7.326923   6.956069  2112240.0\n",
       "2017-07-27  7.388461  7.419230  7.223076  7.269230   6.901296  1910480.0\n",
       "2017-07-28  7.261538  7.296153  7.165384  7.200000   6.835570  2866760.0"
      ]
     },
     "execution_count": 30,
     "metadata": {},
     "output_type": "execute_result"
    }
   ],
   "source": [
    "cotacoes.head()"
   ]
  },
  {
   "cell_type": "code",
   "execution_count": 32,
   "id": "21fc6d07",
   "metadata": {},
   "outputs": [],
   "source": [
    "# removendo a coluna Volume\n",
    "\n",
    "cotacoes.drop(['Volume'], axis = 1, inplace=True)"
   ]
  },
  {
   "cell_type": "code",
   "execution_count": 34,
   "id": "e621132d",
   "metadata": {},
   "outputs": [
    {
     "data": {
      "text/html": [
       "<div>\n",
       "<style scoped>\n",
       "    .dataframe tbody tr th:only-of-type {\n",
       "        vertical-align: middle;\n",
       "    }\n",
       "\n",
       "    .dataframe tbody tr th {\n",
       "        vertical-align: top;\n",
       "    }\n",
       "\n",
       "    .dataframe thead th {\n",
       "        text-align: right;\n",
       "    }\n",
       "</style>\n",
       "<table border=\"1\" class=\"dataframe\">\n",
       "  <thead>\n",
       "    <tr style=\"text-align: right;\">\n",
       "      <th></th>\n",
       "      <th>Open</th>\n",
       "      <th>High</th>\n",
       "      <th>Low</th>\n",
       "      <th>Close</th>\n",
       "      <th>Adj Close</th>\n",
       "    </tr>\n",
       "    <tr>\n",
       "      <th>Date</th>\n",
       "      <th></th>\n",
       "      <th></th>\n",
       "      <th></th>\n",
       "      <th></th>\n",
       "      <th></th>\n",
       "    </tr>\n",
       "  </thead>\n",
       "  <tbody>\n",
       "    <tr>\n",
       "      <th>2021-07-15</th>\n",
       "      <td>35.000000</td>\n",
       "      <td>35.590000</td>\n",
       "      <td>34.900002</td>\n",
       "      <td>34.919998</td>\n",
       "      <td>34.919998</td>\n",
       "    </tr>\n",
       "    <tr>\n",
       "      <th>2021-07-16</th>\n",
       "      <td>35.040001</td>\n",
       "      <td>35.259998</td>\n",
       "      <td>34.209999</td>\n",
       "      <td>34.290001</td>\n",
       "      <td>34.290001</td>\n",
       "    </tr>\n",
       "    <tr>\n",
       "      <th>2021-07-19</th>\n",
       "      <td>34.000000</td>\n",
       "      <td>34.369999</td>\n",
       "      <td>33.599998</td>\n",
       "      <td>34.180000</td>\n",
       "      <td>34.180000</td>\n",
       "    </tr>\n",
       "    <tr>\n",
       "      <th>2021-07-20</th>\n",
       "      <td>34.049999</td>\n",
       "      <td>34.830002</td>\n",
       "      <td>33.869999</td>\n",
       "      <td>34.549999</td>\n",
       "      <td>34.549999</td>\n",
       "    </tr>\n",
       "    <tr>\n",
       "      <th>2021-07-21</th>\n",
       "      <td>34.750000</td>\n",
       "      <td>34.970001</td>\n",
       "      <td>34.099998</td>\n",
       "      <td>34.450001</td>\n",
       "      <td>34.450001</td>\n",
       "    </tr>\n",
       "  </tbody>\n",
       "</table>\n",
       "</div>"
      ],
      "text/plain": [
       "                 Open       High        Low      Close  Adj Close\n",
       "Date                                                             \n",
       "2021-07-15  35.000000  35.590000  34.900002  34.919998  34.919998\n",
       "2021-07-16  35.040001  35.259998  34.209999  34.290001  34.290001\n",
       "2021-07-19  34.000000  34.369999  33.599998  34.180000  34.180000\n",
       "2021-07-20  34.049999  34.830002  33.869999  34.549999  34.549999\n",
       "2021-07-21  34.750000  34.970001  34.099998  34.450001  34.450001"
      ]
     },
     "execution_count": 34,
     "metadata": {},
     "output_type": "execute_result"
    }
   ],
   "source": [
    "cotacoes.tail()"
   ]
  },
  {
   "cell_type": "markdown",
   "id": "a9f7d233",
   "metadata": {},
   "source": [
    "Plotando o dataFrame inteiro"
   ]
  },
  {
   "cell_type": "code",
   "execution_count": 35,
   "id": "b4952e15",
   "metadata": {},
   "outputs": [
    {
     "data": {
      "text/plain": [
       "<matplotlib.axes._subplots.AxesSubplot at 0x18f77c56b20>"
      ]
     },
     "execution_count": 35,
     "metadata": {},
     "output_type": "execute_result"
    },
    {
     "data": {
      "image/png": "[encoded data removed]",
      "text/plain": [
       "<Figure size 432x288 with 1 Axes>"
      ]
     },
     "metadata": {
      "needs_background": "light"
     },
     "output_type": "display_data"
    }
   ],
   "source": [
    "cotacoes.plot()"
   ]
  },
  {
   "cell_type": "markdown",
   "id": "eb3b857b",
   "metadata": {},
   "source": [
    "Dar um 'zoom' em datas mais recentes...\n",
    "Por exemplo, nos 100 pregões mais atuais...."
   ]
  },
  {
   "cell_type": "code",
   "execution_count": 36,
   "id": "2aa041b3",
   "metadata": {},
   "outputs": [
    {
     "data": {
      "text/plain": [
       "<matplotlib.axes._subplots.AxesSubplot at 0x18f78ad7b50>"
      ]
     },
     "execution_count": 36,
     "metadata": {},
     "output_type": "execute_result"
    },
    {
     "data": {
      "image/png": "[encoded data removed]",
      "text/plain": [
       "<Figure size 432x288 with 1 Axes>"
      ]
     },
     "metadata": {
      "needs_background": "light"
     },
     "output_type": "display_data"
    }
   ],
   "source": [
    "cotacoes.tail(100).plot()"
   ]
  },
  {
   "cell_type": "markdown",
   "id": "d582a745",
   "metadata": {},
   "source": [
    "Utilizando o operador slicing"
   ]
  },
  {
   "cell_type": "code",
   "execution_count": 37,
   "id": "7150ff84",
   "metadata": {},
   "outputs": [
    {
     "data": {
      "text/html": [
       "<div>\n",
       "<style scoped>\n",
       "    .dataframe tbody tr th:only-of-type {\n",
       "        vertical-align: middle;\n",
       "    }\n",
       "\n",
       "    .dataframe tbody tr th {\n",
       "        vertical-align: top;\n",
       "    }\n",
       "\n",
       "    .dataframe thead th {\n",
       "        text-align: right;\n",
       "    }\n",
       "</style>\n",
       "<table border=\"1\" class=\"dataframe\">\n",
       "  <thead>\n",
       "    <tr style=\"text-align: right;\">\n",
       "      <th></th>\n",
       "      <th>Open</th>\n",
       "      <th>High</th>\n",
       "      <th>Low</th>\n",
       "      <th>Close</th>\n",
       "      <th>Adj Close</th>\n",
       "    </tr>\n",
       "    <tr>\n",
       "      <th>Date</th>\n",
       "      <th></th>\n",
       "      <th></th>\n",
       "      <th></th>\n",
       "      <th></th>\n",
       "      <th></th>\n",
       "    </tr>\n",
       "  </thead>\n",
       "  <tbody>\n",
       "    <tr>\n",
       "      <th>2021-07-19</th>\n",
       "      <td>34.000000</td>\n",
       "      <td>34.369999</td>\n",
       "      <td>33.599998</td>\n",
       "      <td>34.180000</td>\n",
       "      <td>34.180000</td>\n",
       "    </tr>\n",
       "    <tr>\n",
       "      <th>2021-07-20</th>\n",
       "      <td>34.049999</td>\n",
       "      <td>34.830002</td>\n",
       "      <td>33.869999</td>\n",
       "      <td>34.549999</td>\n",
       "      <td>34.549999</td>\n",
       "    </tr>\n",
       "    <tr>\n",
       "      <th>2021-07-21</th>\n",
       "      <td>34.750000</td>\n",
       "      <td>34.970001</td>\n",
       "      <td>34.099998</td>\n",
       "      <td>34.450001</td>\n",
       "      <td>34.450001</td>\n",
       "    </tr>\n",
       "  </tbody>\n",
       "</table>\n",
       "</div>"
      ],
      "text/plain": [
       "                 Open       High        Low      Close  Adj Close\n",
       "Date                                                             \n",
       "2021-07-19  34.000000  34.369999  33.599998  34.180000  34.180000\n",
       "2021-07-20  34.049999  34.830002  33.869999  34.549999  34.549999\n",
       "2021-07-21  34.750000  34.970001  34.099998  34.450001  34.450001"
      ]
     },
     "execution_count": 37,
     "metadata": {},
     "output_type": "execute_result"
    }
   ],
   "source": [
    "# caso não tenha a informação de quanta linha tem o dataframe\n",
    "\n",
    "cotacoes[-3:]"
   ]
  },
  {
   "cell_type": "code",
   "execution_count": 39,
   "id": "c84fd45a",
   "metadata": {},
   "outputs": [
    {
     "data": {
      "text/plain": [
       "<matplotlib.axes._subplots.AxesSubplot at 0x18f78b79bb0>"
      ]
     },
     "execution_count": 39,
     "metadata": {},
     "output_type": "execute_result"
    },
    {
     "data": {
      "image/png": "[encoded data removed]",
      "text/plain": [
       "<Figure size 432x288 with 1 Axes>"
      ]
     },
     "metadata": {
      "needs_background": "light"
     },
     "output_type": "display_data"
    }
   ],
   "source": [
    "# plotanto os 50 mais recentes\n",
    "\n",
    "cotacoes[-50:].plot()"
   ]
  },
  {
   "cell_type": "markdown",
   "id": "32545352",
   "metadata": {},
   "source": [
    "Filtrando linhas especificas dentro do dataframe"
   ]
  },
  {
   "cell_type": "code",
   "execution_count": 40,
   "id": "f09bbfc4",
   "metadata": {},
   "outputs": [
    {
     "data": {
      "text/html": [
       "<div>\n",
       "<style scoped>\n",
       "    .dataframe tbody tr th:only-of-type {\n",
       "        vertical-align: middle;\n",
       "    }\n",
       "\n",
       "    .dataframe tbody tr th {\n",
       "        vertical-align: top;\n",
       "    }\n",
       "\n",
       "    .dataframe thead th {\n",
       "        text-align: right;\n",
       "    }\n",
       "</style>\n",
       "<table border=\"1\" class=\"dataframe\">\n",
       "  <thead>\n",
       "    <tr style=\"text-align: right;\">\n",
       "      <th></th>\n",
       "      <th>Open</th>\n",
       "      <th>High</th>\n",
       "      <th>Low</th>\n",
       "      <th>Close</th>\n",
       "      <th>Adj Close</th>\n",
       "    </tr>\n",
       "    <tr>\n",
       "      <th>Date</th>\n",
       "      <th></th>\n",
       "      <th></th>\n",
       "      <th></th>\n",
       "      <th></th>\n",
       "      <th></th>\n",
       "    </tr>\n",
       "  </thead>\n",
       "  <tbody>\n",
       "    <tr>\n",
       "      <th>2018-01-02</th>\n",
       "      <td>9.365384</td>\n",
       "      <td>9.680769</td>\n",
       "      <td>9.365384</td>\n",
       "      <td>9.623076</td>\n",
       "      <td>9.183080</td>\n",
       "    </tr>\n",
       "    <tr>\n",
       "      <th>2018-01-03</th>\n",
       "      <td>9.576923</td>\n",
       "      <td>9.596153</td>\n",
       "      <td>9.457692</td>\n",
       "      <td>9.476923</td>\n",
       "      <td>9.043611</td>\n",
       "    </tr>\n",
       "    <tr>\n",
       "      <th>2018-01-04</th>\n",
       "      <td>9.530769</td>\n",
       "      <td>9.584615</td>\n",
       "      <td>9.384615</td>\n",
       "      <td>9.384615</td>\n",
       "      <td>8.955523</td>\n",
       "    </tr>\n",
       "    <tr>\n",
       "      <th>2018-01-05</th>\n",
       "      <td>9.469230</td>\n",
       "      <td>9.480769</td>\n",
       "      <td>9.342307</td>\n",
       "      <td>9.423076</td>\n",
       "      <td>8.992227</td>\n",
       "    </tr>\n",
       "    <tr>\n",
       "      <th>2018-01-08</th>\n",
       "      <td>9.426923</td>\n",
       "      <td>9.557692</td>\n",
       "      <td>9.253846</td>\n",
       "      <td>9.500000</td>\n",
       "      <td>9.065634</td>\n",
       "    </tr>\n",
       "    <tr>\n",
       "      <th>...</th>\n",
       "      <td>...</td>\n",
       "      <td>...</td>\n",
       "      <td>...</td>\n",
       "      <td>...</td>\n",
       "      <td>...</td>\n",
       "    </tr>\n",
       "    <tr>\n",
       "      <th>2018-12-20</th>\n",
       "      <td>8.550000</td>\n",
       "      <td>8.690000</td>\n",
       "      <td>8.510000</td>\n",
       "      <td>8.625000</td>\n",
       "      <td>8.352525</td>\n",
       "    </tr>\n",
       "    <tr>\n",
       "      <th>2018-12-21</th>\n",
       "      <td>8.685000</td>\n",
       "      <td>8.745000</td>\n",
       "      <td>8.570000</td>\n",
       "      <td>8.670000</td>\n",
       "      <td>8.396103</td>\n",
       "    </tr>\n",
       "    <tr>\n",
       "      <th>2018-12-26</th>\n",
       "      <td>8.545000</td>\n",
       "      <td>8.660000</td>\n",
       "      <td>8.450000</td>\n",
       "      <td>8.500000</td>\n",
       "      <td>8.255954</td>\n",
       "    </tr>\n",
       "    <tr>\n",
       "      <th>2018-12-27</th>\n",
       "      <td>8.550000</td>\n",
       "      <td>8.725000</td>\n",
       "      <td>8.480000</td>\n",
       "      <td>8.565000</td>\n",
       "      <td>8.319087</td>\n",
       "    </tr>\n",
       "    <tr>\n",
       "      <th>2018-12-28</th>\n",
       "      <td>8.590000</td>\n",
       "      <td>8.930000</td>\n",
       "      <td>8.555000</td>\n",
       "      <td>8.770000</td>\n",
       "      <td>8.518201</td>\n",
       "    </tr>\n",
       "  </tbody>\n",
       "</table>\n",
       "<p>246 rows × 5 columns</p>\n",
       "</div>"
      ],
      "text/plain": [
       "                Open      High       Low     Close  Adj Close\n",
       "Date                                                         \n",
       "2018-01-02  9.365384  9.680769  9.365384  9.623076   9.183080\n",
       "2018-01-03  9.576923  9.596153  9.457692  9.476923   9.043611\n",
       "2018-01-04  9.530769  9.584615  9.384615  9.384615   8.955523\n",
       "2018-01-05  9.469230  9.480769  9.342307  9.423076   8.992227\n",
       "2018-01-08  9.426923  9.557692  9.253846  9.500000   9.065634\n",
       "...              ...       ...       ...       ...        ...\n",
       "2018-12-20  8.550000  8.690000  8.510000  8.625000   8.352525\n",
       "2018-12-21  8.685000  8.745000  8.570000  8.670000   8.396103\n",
       "2018-12-26  8.545000  8.660000  8.450000  8.500000   8.255954\n",
       "2018-12-27  8.550000  8.725000  8.480000  8.565000   8.319087\n",
       "2018-12-28  8.590000  8.930000  8.555000  8.770000   8.518201\n",
       "\n",
       "[246 rows x 5 columns]"
      ]
     },
     "execution_count": 40,
     "metadata": {},
     "output_type": "execute_result"
    }
   ],
   "source": [
    "cotacoes.loc['2018-01-01':'2019-01-01']"
   ]
  },
  {
   "cell_type": "code",
   "execution_count": 41,
   "id": "4b4ef5ea",
   "metadata": {},
   "outputs": [
    {
     "data": {
      "text/plain": [
       "<matplotlib.axes._subplots.AxesSubplot at 0x18f78be3700>"
      ]
     },
     "execution_count": 41,
     "metadata": {},
     "output_type": "execute_result"
    },
    {
     "data": {
      "image/png": "[encoded data removed]",
      "text/plain": [
       "<Figure size 432x288 with 1 Axes>"
      ]
     },
     "metadata": {
      "needs_background": "light"
     },
     "output_type": "display_data"
    }
   ],
   "source": [
    "cotacoes.loc['2018-01-01':'2019-01-01'].plot()"
   ]
  },
  {
   "cell_type": "code",
   "execution_count": 42,
   "id": "fa61c89e",
   "metadata": {},
   "outputs": [
    {
     "data": {
      "text/html": [
       "<div>\n",
       "<style scoped>\n",
       "    .dataframe tbody tr th:only-of-type {\n",
       "        vertical-align: middle;\n",
       "    }\n",
       "\n",
       "    .dataframe tbody tr th {\n",
       "        vertical-align: top;\n",
       "    }\n",
       "\n",
       "    .dataframe thead th {\n",
       "        text-align: right;\n",
       "    }\n",
       "</style>\n",
       "<table border=\"1\" class=\"dataframe\">\n",
       "  <thead>\n",
       "    <tr style=\"text-align: right;\">\n",
       "      <th></th>\n",
       "      <th>Open</th>\n",
       "      <th>High</th>\n",
       "      <th>Low</th>\n",
       "      <th>Close</th>\n",
       "      <th>Adj Close</th>\n",
       "    </tr>\n",
       "    <tr>\n",
       "      <th>Date</th>\n",
       "      <th></th>\n",
       "      <th></th>\n",
       "      <th></th>\n",
       "      <th></th>\n",
       "      <th></th>\n",
       "    </tr>\n",
       "  </thead>\n",
       "  <tbody>\n",
       "    <tr>\n",
       "      <th>2017-08-14</th>\n",
       "      <td>7.376923</td>\n",
       "      <td>7.553846</td>\n",
       "      <td>7.357692</td>\n",
       "      <td>7.442307</td>\n",
       "      <td>7.065613</td>\n",
       "    </tr>\n",
       "    <tr>\n",
       "      <th>2017-08-15</th>\n",
       "      <td>7.515384</td>\n",
       "      <td>7.661538</td>\n",
       "      <td>7.480769</td>\n",
       "      <td>7.542307</td>\n",
       "      <td>7.160551</td>\n",
       "    </tr>\n",
       "    <tr>\n",
       "      <th>2017-08-16</th>\n",
       "      <td>7.607692</td>\n",
       "      <td>7.880769</td>\n",
       "      <td>7.565384</td>\n",
       "      <td>7.838461</td>\n",
       "      <td>7.441716</td>\n",
       "    </tr>\n",
       "    <tr>\n",
       "      <th>2017-08-17</th>\n",
       "      <td>7.834615</td>\n",
       "      <td>7.834615</td>\n",
       "      <td>7.688461</td>\n",
       "      <td>7.734615</td>\n",
       "      <td>7.343126</td>\n",
       "    </tr>\n",
       "    <tr>\n",
       "      <th>2017-08-18</th>\n",
       "      <td>7.773076</td>\n",
       "      <td>7.900000</td>\n",
       "      <td>7.646153</td>\n",
       "      <td>7.811538</td>\n",
       "      <td>7.416155</td>\n",
       "    </tr>\n",
       "    <tr>\n",
       "      <th>2017-08-21</th>\n",
       "      <td>7.834615</td>\n",
       "      <td>7.911538</td>\n",
       "      <td>7.738461</td>\n",
       "      <td>7.826923</td>\n",
       "      <td>7.430761</td>\n",
       "    </tr>\n",
       "    <tr>\n",
       "      <th>2017-08-22</th>\n",
       "      <td>7.915384</td>\n",
       "      <td>8.107692</td>\n",
       "      <td>7.884615</td>\n",
       "      <td>8.011538</td>\n",
       "      <td>7.606031</td>\n",
       "    </tr>\n",
       "    <tr>\n",
       "      <th>2017-08-23</th>\n",
       "      <td>8.038461</td>\n",
       "      <td>8.092307</td>\n",
       "      <td>7.892307</td>\n",
       "      <td>8.011538</td>\n",
       "      <td>7.606031</td>\n",
       "    </tr>\n",
       "    <tr>\n",
       "      <th>2017-08-24</th>\n",
       "      <td>7.950000</td>\n",
       "      <td>8.034615</td>\n",
       "      <td>7.911538</td>\n",
       "      <td>7.938461</td>\n",
       "      <td>7.536654</td>\n",
       "    </tr>\n",
       "    <tr>\n",
       "      <th>2017-08-25</th>\n",
       "      <td>7.930769</td>\n",
       "      <td>8.000000</td>\n",
       "      <td>7.857692</td>\n",
       "      <td>7.892307</td>\n",
       "      <td>7.492836</td>\n",
       "    </tr>\n",
       "  </tbody>\n",
       "</table>\n",
       "</div>"
      ],
      "text/plain": [
       "                Open      High       Low     Close  Adj Close\n",
       "Date                                                         \n",
       "2017-08-14  7.376923  7.553846  7.357692  7.442307   7.065613\n",
       "2017-08-15  7.515384  7.661538  7.480769  7.542307   7.160551\n",
       "2017-08-16  7.607692  7.880769  7.565384  7.838461   7.441716\n",
       "2017-08-17  7.834615  7.834615  7.688461  7.734615   7.343126\n",
       "2017-08-18  7.773076  7.900000  7.646153  7.811538   7.416155\n",
       "2017-08-21  7.834615  7.911538  7.738461  7.826923   7.430761\n",
       "2017-08-22  7.915384  8.107692  7.884615  8.011538   7.606031\n",
       "2017-08-23  8.038461  8.092307  7.892307  8.011538   7.606031\n",
       "2017-08-24  7.950000  8.034615  7.911538  7.938461   7.536654\n",
       "2017-08-25  7.930769  8.000000  7.857692  7.892307   7.492836"
      ]
     },
     "execution_count": 42,
     "metadata": {},
     "output_type": "execute_result"
    }
   ],
   "source": [
    "# Filtrando as linha por posição\n",
    "\n",
    "cotacoes.iloc[15:25]"
   ]
  },
  {
   "cell_type": "markdown",
   "id": "9001f31d",
   "metadata": {},
   "source": [
    "Filtrando apenas uma coluna \n",
    "\n",
    "Por exemplo, Adjusted Close\n",
    "\n",
    "Explicar aqui o que é Adjusted Close"
   ]
  },
  {
   "cell_type": "code",
   "execution_count": 43,
   "id": "381f73d9",
   "metadata": {},
   "outputs": [
    {
     "data": {
      "text/html": [
       "<div>\n",
       "<style scoped>\n",
       "    .dataframe tbody tr th:only-of-type {\n",
       "        vertical-align: middle;\n",
       "    }\n",
       "\n",
       "    .dataframe tbody tr th {\n",
       "        vertical-align: top;\n",
       "    }\n",
       "\n",
       "    .dataframe thead th {\n",
       "        text-align: right;\n",
       "    }\n",
       "</style>\n",
       "<table border=\"1\" class=\"dataframe\">\n",
       "  <thead>\n",
       "    <tr style=\"text-align: right;\">\n",
       "      <th></th>\n",
       "      <th>Adj Close</th>\n",
       "    </tr>\n",
       "    <tr>\n",
       "      <th>Date</th>\n",
       "      <th></th>\n",
       "    </tr>\n",
       "  </thead>\n",
       "  <tbody>\n",
       "    <tr>\n",
       "      <th>2017-07-24</th>\n",
       "      <td>7.051007</td>\n",
       "    </tr>\n",
       "    <tr>\n",
       "      <th>2017-07-25</th>\n",
       "      <td>6.996235</td>\n",
       "    </tr>\n",
       "    <tr>\n",
       "      <th>2017-07-26</th>\n",
       "      <td>6.956069</td>\n",
       "    </tr>\n",
       "    <tr>\n",
       "      <th>2017-07-27</th>\n",
       "      <td>6.901296</td>\n",
       "    </tr>\n",
       "    <tr>\n",
       "      <th>2017-07-28</th>\n",
       "      <td>6.835570</td>\n",
       "    </tr>\n",
       "    <tr>\n",
       "      <th>...</th>\n",
       "      <td>...</td>\n",
       "    </tr>\n",
       "    <tr>\n",
       "      <th>2021-07-15</th>\n",
       "      <td>34.919998</td>\n",
       "    </tr>\n",
       "    <tr>\n",
       "      <th>2021-07-16</th>\n",
       "      <td>34.290001</td>\n",
       "    </tr>\n",
       "    <tr>\n",
       "      <th>2021-07-19</th>\n",
       "      <td>34.180000</td>\n",
       "    </tr>\n",
       "    <tr>\n",
       "      <th>2021-07-20</th>\n",
       "      <td>34.549999</td>\n",
       "    </tr>\n",
       "    <tr>\n",
       "      <th>2021-07-21</th>\n",
       "      <td>34.450001</td>\n",
       "    </tr>\n",
       "  </tbody>\n",
       "</table>\n",
       "<p>993 rows × 1 columns</p>\n",
       "</div>"
      ],
      "text/plain": [
       "            Adj Close\n",
       "Date                 \n",
       "2017-07-24   7.051007\n",
       "2017-07-25   6.996235\n",
       "2017-07-26   6.956069\n",
       "2017-07-27   6.901296\n",
       "2017-07-28   6.835570\n",
       "...               ...\n",
       "2021-07-15  34.919998\n",
       "2021-07-16  34.290001\n",
       "2021-07-19  34.180000\n",
       "2021-07-20  34.549999\n",
       "2021-07-21  34.450001\n",
       "\n",
       "[993 rows x 1 columns]"
      ]
     },
     "execution_count": 43,
     "metadata": {},
     "output_type": "execute_result"
    }
   ],
   "source": [
    "adjusted = ['Adj Close']\n",
    "adj_close = cotacoes[adjusted]\n",
    "adj_close"
   ]
  },
  {
   "cell_type": "code",
   "execution_count": 44,
   "id": "9f05f895",
   "metadata": {},
   "outputs": [
    {
     "data": {
      "text/plain": [
       "<matplotlib.axes._subplots.AxesSubplot at 0x18f78c70730>"
      ]
     },
     "execution_count": 44,
     "metadata": {},
     "output_type": "execute_result"
    },
    {
     "data": {
      "image/png": "[encoded data removed]",
      "text/plain": [
       "<Figure size 432x288 with 1 Axes>"
      ]
     },
     "metadata": {
      "needs_background": "light"
     },
     "output_type": "display_data"
    }
   ],
   "source": [
    "adj_close.plot()"
   ]
  },
  {
   "cell_type": "code",
   "execution_count": null,
   "id": "14cf94c9",
   "metadata": {},
   "outputs": [],
   "source": []
  },
  {
   "cell_type": "code",
   "execution_count": null,
   "id": "9c9175df",
   "metadata": {},
   "outputs": [],
   "source": []
  }
 ],
 "metadata": {
  "kernelspec": {
   "display_name": "Python 3",
   "language": "python",
   "name": "python3"
  },
  "language_info": {
   "codemirror_mode": {
    "name": "ipython",
    "version": 3
   },
   "file_extension": ".py",
   "mimetype": "text/x-python",
   "name": "python",
   "nbconvert_exporter": "python",
   "pygments_lexer": "ipython3",
   "version": "3.8.8"
  }
 },
 "nbformat": 4,
 "nbformat_minor": 5
}
